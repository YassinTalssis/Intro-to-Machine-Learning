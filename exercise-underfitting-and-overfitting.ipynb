{
 "cells": [
  {
   "cell_type": "markdown",
   "id": "133eb04b",
   "metadata": {
    "papermill": {
     "duration": 0.00516,
     "end_time": "2022-07-14T11:27:02.257276",
     "exception": false,
     "start_time": "2022-07-14T11:27:02.252116",
     "status": "completed"
    },
    "tags": []
   },
   "source": [
    "**This notebook is an exercise in the [Introduction to Machine Learning](https://www.kaggle.com/learn/intro-to-machine-learning) course.  You can reference the tutorial at [this link](https://www.kaggle.com/dansbecker/underfitting-and-overfitting).**\n",
    "\n",
    "---\n"
   ]
  },
  {
   "cell_type": "markdown",
   "id": "356a4c59",
   "metadata": {
    "papermill": {
     "duration": 0.003857,
     "end_time": "2022-07-14T11:27:02.265437",
     "exception": false,
     "start_time": "2022-07-14T11:27:02.261580",
     "status": "completed"
    },
    "tags": []
   },
   "source": [
    "## Recap\n",
    "You've built your first model, and now it's time to optimize the size of the tree to make better predictions. Run this cell to set up your coding environment where the previous step left off."
   ]
  },
  {
   "cell_type": "code",
   "execution_count": 1,
   "id": "885c53fa",
   "metadata": {
    "execution": {
     "iopub.execute_input": "2022-07-14T11:27:02.276213Z",
     "iopub.status.busy": "2022-07-14T11:27:02.275386Z",
     "iopub.status.idle": "2022-07-14T11:27:03.774291Z",
     "shell.execute_reply": "2022-07-14T11:27:03.772592Z"
    },
    "papermill": {
     "duration": 1.508631,
     "end_time": "2022-07-14T11:27:03.778185",
     "exception": false,
     "start_time": "2022-07-14T11:27:02.269554",
     "status": "completed"
    },
    "tags": []
   },
   "outputs": [
    {
     "name": "stdout",
     "output_type": "stream",
     "text": [
      "Validation MAE: 29,653\n",
      "\n",
      "Setup complete\n"
     ]
    }
   ],
   "source": [
    "# Code you have previously used to load data\n",
    "import pandas as pd\n",
    "from sklearn.metrics import mean_absolute_error\n",
    "from sklearn.model_selection import train_test_split\n",
    "from sklearn.tree import DecisionTreeRegressor\n",
    "\n",
    "\n",
    "# Path of the file to read\n",
    "iowa_file_path = '../input/home-data-for-ml-course/train.csv'\n",
    "\n",
    "home_data = pd.read_csv(iowa_file_path)\n",
    "# Create target object and call it y\n",
    "y = home_data.SalePrice\n",
    "# Create X\n",
    "features = ['LotArea', 'YearBuilt', '1stFlrSF', '2ndFlrSF', 'FullBath', 'BedroomAbvGr', 'TotRmsAbvGrd']\n",
    "X = home_data[features]\n",
    "\n",
    "# Split into validation and training data\n",
    "train_X, val_X, train_y, val_y = train_test_split(X, y, random_state=1)\n",
    "\n",
    "# Specify Model\n",
    "iowa_model = DecisionTreeRegressor(random_state=1)\n",
    "# Fit Model\n",
    "iowa_model.fit(train_X, train_y)\n",
    "\n",
    "# Make validation predictions and calculate mean absolute error\n",
    "val_predictions = iowa_model.predict(val_X)\n",
    "val_mae = mean_absolute_error(val_predictions, val_y)\n",
    "print(\"Validation MAE: {:,.0f}\".format(val_mae))\n",
    "\n",
    "# Set up code checking\n",
    "from learntools.core import binder\n",
    "binder.bind(globals())\n",
    "from learntools.machine_learning.ex5 import *\n",
    "print(\"\\nSetup complete\")"
   ]
  },
  {
   "cell_type": "markdown",
   "id": "75b5ed63",
   "metadata": {
    "papermill": {
     "duration": 0.003897,
     "end_time": "2022-07-14T11:27:03.786623",
     "exception": false,
     "start_time": "2022-07-14T11:27:03.782726",
     "status": "completed"
    },
    "tags": []
   },
   "source": [
    "# Exercises\n",
    "You could write the function `get_mae` yourself. For now, we'll supply it. This is the same function you read about in the previous lesson. Just run the cell below."
   ]
  },
  {
   "cell_type": "code",
   "execution_count": 2,
   "id": "1cee63df",
   "metadata": {
    "execution": {
     "iopub.execute_input": "2022-07-14T11:27:03.797131Z",
     "iopub.status.busy": "2022-07-14T11:27:03.796069Z",
     "iopub.status.idle": "2022-07-14T11:27:03.802312Z",
     "shell.execute_reply": "2022-07-14T11:27:03.801387Z"
    },
    "papermill": {
     "duration": 0.013779,
     "end_time": "2022-07-14T11:27:03.804492",
     "exception": false,
     "start_time": "2022-07-14T11:27:03.790713",
     "status": "completed"
    },
    "tags": []
   },
   "outputs": [],
   "source": [
    "def get_mae(max_leaf_nodes, train_X, val_X, train_y, val_y):\n",
    "    model = DecisionTreeRegressor(max_leaf_nodes=max_leaf_nodes, random_state=0)\n",
    "    model.fit(train_X, train_y)\n",
    "    preds_val = model.predict(val_X)\n",
    "    mae = mean_absolute_error(val_y, preds_val)\n",
    "    return(mae)"
   ]
  },
  {
   "cell_type": "markdown",
   "id": "95260409",
   "metadata": {
    "papermill": {
     "duration": 0.00375,
     "end_time": "2022-07-14T11:27:03.812366",
     "exception": false,
     "start_time": "2022-07-14T11:27:03.808616",
     "status": "completed"
    },
    "tags": []
   },
   "source": [
    "## Step 1: Compare Different Tree Sizes\n",
    "Write a loop that tries the following values for *max_leaf_nodes* from a set of possible values.\n",
    "\n",
    "Call the *get_mae* function on each value of max_leaf_nodes. Store the output in some way that allows you to select the value of `max_leaf_nodes` that gives the most accurate model on your data."
   ]
  },
  {
   "cell_type": "code",
   "execution_count": 3,
   "id": "f451eecd",
   "metadata": {
    "execution": {
     "iopub.execute_input": "2022-07-14T11:27:03.821916Z",
     "iopub.status.busy": "2022-07-14T11:27:03.821517Z",
     "iopub.status.idle": "2022-07-14T11:27:03.871099Z",
     "shell.execute_reply": "2022-07-14T11:27:03.870223Z"
    },
    "papermill": {
     "duration": 0.057045,
     "end_time": "2022-07-14T11:27:03.873460",
     "exception": false,
     "start_time": "2022-07-14T11:27:03.816415",
     "status": "completed"
    },
    "tags": []
   },
   "outputs": [
    {
     "data": {
      "application/javascript": [
       "parent.postMessage({\"jupyterEvent\": \"custom.exercise_interaction\", \"data\": {\"outcomeType\": 1, \"valueTowardsCompletion\": 0.5, \"interactionType\": 1, \"questionType\": 1, \"questionId\": \"1_BestTreeSize\", \"learnToolsVersion\": \"0.3.4\", \"failureMessage\": \"\", \"exceptionClass\": \"\", \"trace\": \"\"}}, \"*\")"
      ],
      "text/plain": [
       "<IPython.core.display.Javascript object>"
      ]
     },
     "metadata": {},
     "output_type": "display_data"
    },
    {
     "data": {
      "text/markdown": [
       "<span style=\"color:#33cc33\">Correct</span>"
      ],
      "text/plain": [
       "Correct"
      ]
     },
     "metadata": {},
     "output_type": "display_data"
    }
   ],
   "source": [
    "import numpy as np\n",
    "candidate_max_leaf_nodes = [5, 25, 50, 100, 250, 500]\n",
    "# Write loop to find the ideal tree size from candidate_max_leaf_nodes\n",
    "\n",
    "scores = {leaf_size: get_mae(leaf_size, train_X, val_X, train_y, val_y) for leaf_size in candidate_max_leaf_nodes}\n",
    "best_tree_size = min(scores, key=scores.get)\n",
    "\n",
    "# Check your answer\n",
    "step_1.check()"
   ]
  },
  {
   "cell_type": "code",
   "execution_count": 4,
   "id": "04394c1b",
   "metadata": {
    "execution": {
     "iopub.execute_input": "2022-07-14T11:27:03.884047Z",
     "iopub.status.busy": "2022-07-14T11:27:03.883665Z",
     "iopub.status.idle": "2022-07-14T11:27:03.888002Z",
     "shell.execute_reply": "2022-07-14T11:27:03.886815Z"
    },
    "papermill": {
     "duration": 0.012394,
     "end_time": "2022-07-14T11:27:03.890331",
     "exception": false,
     "start_time": "2022-07-14T11:27:03.877937",
     "status": "completed"
    },
    "tags": []
   },
   "outputs": [],
   "source": [
    "# The lines below will show you a hint or the solution.\n",
    "# step_1.hint() \n",
    "#step_1.solution()"
   ]
  },
  {
   "cell_type": "markdown",
   "id": "a905b0f9",
   "metadata": {
    "papermill": {
     "duration": 0.00419,
     "end_time": "2022-07-14T11:27:03.898900",
     "exception": false,
     "start_time": "2022-07-14T11:27:03.894710",
     "status": "completed"
    },
    "tags": []
   },
   "source": [
    "## Step 2: Fit Model Using All Data\n",
    "You know the best tree size. If you were going to deploy this model in practice, you would make it even more accurate by using all of the data and keeping that tree size.  That is, you don't need to hold out the validation data now that you've made all your modeling decisions."
   ]
  },
  {
   "cell_type": "code",
   "execution_count": 5,
   "id": "5841908e",
   "metadata": {
    "execution": {
     "iopub.execute_input": "2022-07-14T11:27:03.909244Z",
     "iopub.status.busy": "2022-07-14T11:27:03.908857Z",
     "iopub.status.idle": "2022-07-14T11:27:03.926841Z",
     "shell.execute_reply": "2022-07-14T11:27:03.925559Z"
    },
    "papermill": {
     "duration": 0.026014,
     "end_time": "2022-07-14T11:27:03.929224",
     "exception": false,
     "start_time": "2022-07-14T11:27:03.903210",
     "status": "completed"
    },
    "tags": []
   },
   "outputs": [
    {
     "data": {
      "application/javascript": [
       "parent.postMessage({\"jupyterEvent\": \"custom.exercise_interaction\", \"data\": {\"outcomeType\": 1, \"valueTowardsCompletion\": 0.5, \"interactionType\": 1, \"questionType\": 2, \"questionId\": \"2_FitModelWithAllData\", \"learnToolsVersion\": \"0.3.4\", \"failureMessage\": \"\", \"exceptionClass\": \"\", \"trace\": \"\"}}, \"*\")"
      ],
      "text/plain": [
       "<IPython.core.display.Javascript object>"
      ]
     },
     "metadata": {},
     "output_type": "display_data"
    },
    {
     "data": {
      "text/markdown": [
       "<span style=\"color:#33cc33\">Correct</span>"
      ],
      "text/plain": [
       "Correct"
      ]
     },
     "metadata": {},
     "output_type": "display_data"
    }
   ],
   "source": [
    "# Fill in argument to make optimal size and uncomment\n",
    "final_model = DecisionTreeRegressor(max_leaf_nodes=best_tree_size,random_state=1)\n",
    "\n",
    "# fit the final model and uncomment the next two lines\n",
    "final_model.fit(X, y)\n",
    "\n",
    "# Check your answer\n",
    "step_2.check()"
   ]
  },
  {
   "cell_type": "code",
   "execution_count": 6,
   "id": "a3e91c79",
   "metadata": {
    "execution": {
     "iopub.execute_input": "2022-07-14T11:27:03.940310Z",
     "iopub.status.busy": "2022-07-14T11:27:03.939562Z",
     "iopub.status.idle": "2022-07-14T11:27:03.948665Z",
     "shell.execute_reply": "2022-07-14T11:27:03.947563Z"
    },
    "papermill": {
     "duration": 0.017493,
     "end_time": "2022-07-14T11:27:03.951190",
     "exception": false,
     "start_time": "2022-07-14T11:27:03.933697",
     "status": "completed"
    },
    "tags": []
   },
   "outputs": [
    {
     "data": {
      "application/javascript": [
       "parent.postMessage({\"jupyterEvent\": \"custom.exercise_interaction\", \"data\": {\"interactionType\": 3, \"questionType\": 2, \"questionId\": \"2_FitModelWithAllData\", \"learnToolsVersion\": \"0.3.4\", \"valueTowardsCompletion\": 0.0, \"failureMessage\": \"\", \"exceptionClass\": \"\", \"trace\": \"\", \"outcomeType\": 4}}, \"*\")"
      ],
      "text/plain": [
       "<IPython.core.display.Javascript object>"
      ]
     },
     "metadata": {},
     "output_type": "display_data"
    },
    {
     "data": {
      "text/markdown": [
       "<span style=\"color:#33cc99\">Solution:</span> \n",
       "```python\n",
       "# Fit the model with best_tree_size. Fill in argument to make optimal size\n",
       "final_model = DecisionTreeRegressor(max_leaf_nodes=best_tree_size, random_state=1)\n",
       "\n",
       "# fit the final model\n",
       "final_model.fit(X, y)\n",
       "```"
      ],
      "text/plain": [
       "Solution: \n",
       "```python\n",
       "# Fit the model with best_tree_size. Fill in argument to make optimal size\n",
       "final_model = DecisionTreeRegressor(max_leaf_nodes=best_tree_size, random_state=1)\n",
       "\n",
       "# fit the final model\n",
       "final_model.fit(X, y)\n",
       "```"
      ]
     },
     "metadata": {},
     "output_type": "display_data"
    }
   ],
   "source": [
    "# step_2.hint()\n",
    "step_2.solution()"
   ]
  },
  {
   "cell_type": "markdown",
   "id": "99335e99",
   "metadata": {
    "papermill": {
     "duration": 0.004545,
     "end_time": "2022-07-14T11:27:03.960603",
     "exception": false,
     "start_time": "2022-07-14T11:27:03.956058",
     "status": "completed"
    },
    "tags": []
   },
   "source": [
    "You've tuned this model and improved your results. But we are still using Decision Tree models, which are not very sophisticated by modern machine learning standards. In the next step you will learn to use Random Forests to improve your models even more.\n",
    "\n",
    "# Keep Going\n",
    "\n",
    "You are ready for **[Random Forests](https://www.kaggle.com/dansbecker/random-forests).**\n"
   ]
  },
  {
   "cell_type": "markdown",
   "id": "7107b447",
   "metadata": {
    "papermill": {
     "duration": 0.00453,
     "end_time": "2022-07-14T11:27:03.969996",
     "exception": false,
     "start_time": "2022-07-14T11:27:03.965466",
     "status": "completed"
    },
    "tags": []
   },
   "source": [
    "---\n",
    "\n",
    "\n",
    "\n",
    "\n",
    "*Have questions or comments? Visit the [course discussion forum](https://www.kaggle.com/learn/intro-to-machine-learning/discussion) to chat with other learners.*"
   ]
  }
 ],
 "metadata": {
  "kernelspec": {
   "display_name": "Python 3",
   "language": "python",
   "name": "python3"
  },
  "language_info": {
   "codemirror_mode": {
    "name": "ipython",
    "version": 3
   },
   "file_extension": ".py",
   "mimetype": "text/x-python",
   "name": "python",
   "nbconvert_exporter": "python",
   "pygments_lexer": "ipython3",
   "version": "3.7.12"
  },
  "papermill": {
   "default_parameters": {},
   "duration": 13.295394,
   "end_time": "2022-07-14T11:27:04.696567",
   "environment_variables": {},
   "exception": null,
   "input_path": "__notebook__.ipynb",
   "output_path": "__notebook__.ipynb",
   "parameters": {},
   "start_time": "2022-07-14T11:26:51.401173",
   "version": "2.3.4"
  }
 },
 "nbformat": 4,
 "nbformat_minor": 5
}
